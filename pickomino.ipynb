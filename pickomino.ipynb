{
 "cells": [
  {
   "cell_type": "markdown",
   "metadata": {},
   "source": [
    "# Pickomino\n",
    "\n",
    "solve the pickomino game (rules available [here](https://www.ultraboardgames.com/pickomino/game-rules.php)), with a modified rule: when you chose a dice value, you dont have to take all the dices of this roll with this value\n",
    "\n",
    "For now it doesnt take into account available dominos, their value (dominos 21 and 25 both mark 1 point), it just try to maximise expected score of dices"
   ]
  },
  {
   "cell_type": "code",
   "execution_count": 251,
   "metadata": {},
   "outputs": [],
   "source": [
    "from functools import lru_cache\n",
    "from scipy.special import comb\n",
    "import numpy as np\n",
    "from itertools import combinations_with_replacement, product\n",
    "from collections import Counter\n",
    "import operator"
   ]
  },
  {
   "cell_type": "markdown",
   "metadata": {},
   "source": [
    "## setup of the game"
   ]
  },
  {
   "cell_type": "code",
   "execution_count": null,
   "metadata": {},
   "outputs": [],
   "source": [
    "# not used yet\n",
    "dominos = range(21, 36)\n",
    "ndices = 8\n",
    "# symbol and their value in term of score\n",
    "symbols_values = dict(zip(['1','2','3','4','5','worm'], [1,2,3,4,5,5]))"
   ]
  },
  {
   "cell_type": "markdown",
   "metadata": {},
   "source": [
    "## roll representation"
   ]
  },
  {
   "cell_type": "markdown",
   "metadata": {},
   "source": [
    "utils to compute probability of a given roll. A roll is an aggregated view counter {dice: number ot times it appear in the roll}"
   ]
  },
  {
   "cell_type": "code",
   "execution_count": 294,
   "metadata": {},
   "outputs": [
    {
     "output_type": "stream",
     "name": "stdout",
     "text": "5040.0\nnumber of way to make this combination 5040.0\nproba 0.0030006858710562414\n"
    }
   ],
   "source": [
    "@lru_cache(None)\n",
    "def compute_proba(dico_values, normalize=True):\n",
    "    \"\"\"\n",
    "    if normalize: proba\n",
    "    else: number of ways to get this roll\n",
    "    \"\"\"\n",
    "    # number of combination for a given roll aggregate\n",
    "    value = np.prod([comb(n, k) for k,n in zip(dico_values, np.cumsum(dico_values[::-1])[::-1])])\n",
    "    if not normalize:\n",
    "        return value\n",
    "    # normalize by number of outcome of a roll\n",
    "    return value / (len(symbols_values)**sum(dico_values))\n",
    "\n",
    "def v(dico):\n",
    "    \"\"\"\n",
    "    utils to see the values of a dict as a tuple for caching purpose\n",
    "    \"\"\" \n",
    "    return tuple(dico.values())\n",
    "\n",
    "# confront to formula on a particular roll\n",
    "bob = {'1': 1, '3': 1, '4': 2,'5': 2,'worm': 2}\n",
    "print(comb(8,1) * comb(7,1) * comb(6,2) * comb(4,2) * comb(2,2))\n",
    "print('number of way to make this combination', compute_proba(v(bob), False))\n",
    "print('proba', compute_proba(v(bob), True))"
   ]
  },
  {
   "cell_type": "code",
   "execution_count": 177,
   "metadata": {},
   "outputs": [
    {
     "output_type": "execute_result",
     "data": {
      "text/plain": "1.0000000000000027"
     },
     "metadata": {},
     "execution_count": 177
    }
   ],
   "source": [
    "# check probas for each possible roll sums to 1\n",
    "# combinations_with_replacement generates all possible roll (aggregated)\n",
    "# our function computes the probability of this roll\n",
    "sum([ compute_proba(v(Counter(c))) for c in combinations_with_replacement(symbols_values.keys(), 8)])"
   ]
  },
  {
   "cell_type": "markdown",
   "metadata": {},
   "source": [
    "## more utilities"
   ]
  },
  {
   "cell_type": "code",
   "execution_count": null,
   "metadata": {},
   "outputs": [],
   "source": [
    "def roll_dices(ndices):\n",
    "    \"\"\"\n",
    "    return all rolls and their probabilities for a given number of dices\n",
    "    \"\"\"\n",
    "    return [(Counter(c), compute_proba(tuple(Counter(c).values()))) for c in combinations_with_replacement(symbols_values.keys(), ndices)]\n",
    "\n",
    "def decisions(used_dices, roll):\n",
    "    \"\"\"\n",
    "    return all possible actions on a given roll\n",
    "    given allready used symbols\n",
    "    \"\"\"\n",
    "    return [(d, n) for d in roll.keys() if d not in used_dices for n in range(1, 1+roll[d])]\n",
    "\n",
    "def t(tu):\n",
    "    \"\"\"\n",
    "    utility to have a cachable (hashable) set-like\n",
    "    \"\"\"\n",
    "    return tuple(sorted(tu))\n"
   ]
  },
  {
   "cell_type": "code",
   "execution_count": 300,
   "metadata": {},
   "outputs": [
    {
     "output_type": "execute_result",
     "data": {
      "text/plain": "(Counter({'1': 2, '2': 2, '3': 1, '4': 1, '5': 1, 'worm': 1}),\n 0.006001371742112483)"
     },
     "metadata": {},
     "execution_count": 300
    }
   ],
   "source": [
    "# more probable outcome\n",
    "# (one of)\n",
    "tmp = roll_dices(8)\n",
    "max(tmp, key=operator.itemgetter(1))"
   ]
  },
  {
   "cell_type": "markdown",
   "metadata": {},
   "source": [
    "## game solver"
   ]
  },
  {
   "cell_type": "code",
   "execution_count": 247,
   "metadata": {},
   "outputs": [],
   "source": [
    "# we only keep track of the score / used dices forreduced signature / better caching\n",
    "@lru_cache(None)\n",
    "def compute_mean_score(used_dices, curr_score, n_dices_left, my_last_domino=0):\n",
    "    # if stop: curr score if we have a worm\n",
    "    stop_score = curr_score if 'worm' in used_dices else -my_last_domino\n",
    "    # if no more dices: we have to used the stop score\n",
    "    if n_dices_left == 0:\n",
    "        return stop_score\n",
    "    # average score on all roll outcomes if we keep rolling\n",
    "    keep_score = 0\n",
    "    scenarios = roll_dices(n_dices_left) # list of (roll, proba)\n",
    "    for scenario, proba in scenarios:\n",
    "        scores_scenario = []\n",
    "        for dice_value, number_selected in decisions(used_dices, scenario):\n",
    "            scores_scenario.append(compute_mean_score(\n",
    "                t(set(used_dices).union([dice_value])),\n",
    "                curr_score + number_selected * symbols_values[dice_value],\n",
    "                n_dices_left - number_selected,\n",
    "                my_last_domino\n",
    "            ))\n",
    "        # if no actions possibles: we lose our last domino\n",
    "        if len(scores_scenario) == 0:\n",
    "            scores_scenario = [-my_last_domino]\n",
    "        # the score of the scenario is the maximum on all actions in the given scenario\n",
    "        score_scenario = max(scores_scenario)\n",
    "        # the average score of keep playing is incremented by the proba\n",
    "        #  of the scenario * max score on action of the scenario\n",
    "        keep_score += proba * score_scenario\n",
    "\n",
    "    # the final score is the max between stop and keep\n",
    "    return max(stop_score, keep_score)"
   ]
  },
  {
   "cell_type": "code",
   "execution_count": 324,
   "metadata": {},
   "outputs": [],
   "source": [
    "def play():\n",
    "\n",
    "    # initialize tracking variables\n",
    "    res = {}\n",
    "    used_dices = tuple([])\n",
    "    curr_score = 0\n",
    "    n_dices_left = 8\n",
    "    my_last_domino = 25\n",
    "    r = []\n",
    "\n",
    "    while True:\n",
    "        # chose a roll with probabilities\n",
    "        all_rolls = roll_dices(n_dices_left)\n",
    "        roll = np.random.choice([r[0] for r in all_rolls], p=[r[1] for r in all_rolls])\n",
    "        print('roll', roll)\n",
    "\n",
    "        # track all decisions scores\n",
    "        res = {}\n",
    "        # impact of each decision on the roll\n",
    "        for dice_value, number_selected in decisions(used_dices, roll):\n",
    "            res[(dice_value, number_selected)] = compute_mean_score(\n",
    "                t(set(used_dices).union([dice_value])),\n",
    "                curr_score + number_selected * symbols_values[dice_value],\n",
    "                n_dices_left - number_selected,\n",
    "                my_last_domino\n",
    "            )\n",
    "\n",
    "        # if no decision possible: we lose\n",
    "        if len(res) == 0:\n",
    "            print('#############   LOST   #################')\n",
    "            return \n",
    "\n",
    "        # chose decision with better expected outcome\n",
    "        max_action, max_keep_score = max(res.items(), key=operator.itemgetter(1))\n",
    "\n",
    "        # apply action\n",
    "        used_dices = t(set(used_dices).union([max_action[0]]))\n",
    "        curr_score = curr_score + max_action[1] * symbols_values[max_action[0]]\n",
    "        n_dices_left = n_dices_left - max_action[1]\n",
    "\n",
    "        print('best decision', 'take dice \\'{}\\' {} times'.format(*max_action), ' estimate {}'.format(max_keep_score), ' current {}'.format(curr_score))\n",
    "\n",
    "        r.append((max_action, curr_score))\n",
    "\n",
    "        # stop if estimation worse than current\n",
    "        if (max_keep_score <= curr_score) and ('worm' in used_dices):\n",
    "            break\n",
    "\n",
    "    if 'worm' not in used_dices:\n",
    "        print('#############   LOST   #################')\n",
    "        return\n",
    "    return r\n",
    "\n"
   ]
  },
  {
   "cell_type": "code",
   "execution_count": 325,
   "metadata": {},
   "outputs": [
    {
     "output_type": "stream",
     "name": "stdout",
     "text": "roll Counter({'2': 3, 'worm': 2, '1': 1, '3': 1, '4': 1})\nbest decision take dice 'worm' 2 times  estimate 22.2277299939311  current 10\nroll Counter({'3': 2, '2': 1, '4': 1, '5': 1, 'worm': 1})\nbest decision take dice '3' 2 times  estimate 20.99382716049382  current 16\nroll Counter({'1': 2, '2': 1, 'worm': 1})\nbest decision take dice '1' 2 times  estimate 18  current 18\n"
    },
    {
     "output_type": "execute_result",
     "data": {
      "text/plain": "[(('worm', 2), 10), (('3', 2), 16), (('1', 2), 18)]"
     },
     "metadata": {},
     "execution_count": 325
    }
   ],
   "source": [
    "play()"
   ]
  }
 ],
 "metadata": {
  "language_info": {
   "codemirror_mode": {
    "name": "ipython",
    "version": 3
   },
   "file_extension": ".py",
   "mimetype": "text/x-python",
   "name": "python",
   "nbconvert_exporter": "python",
   "pygments_lexer": "ipython3",
   "version": "3.7.4-final"
  },
  "orig_nbformat": 2,
  "kernelspec": {
   "name": "python37464bitcontinuumvirtualenv716c339f4db047f5866f46ba1efb6a92",
   "display_name": "Python 3.7.4 64-bit ('Continuum': virtualenv)"
  }
 },
 "nbformat": 4,
 "nbformat_minor": 2
}