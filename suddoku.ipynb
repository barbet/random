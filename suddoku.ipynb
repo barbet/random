{
 "cells": [
  {
   "cell_type": "code",
   "execution_count": 206,
   "metadata": {},
   "outputs": [],
   "source": [
    "import numpy as np\n",
    "import pandas as pd\n",
    "import datetime\n",
    "import operator"
   ]
  },
  {
   "cell_type": "markdown",
   "metadata": {},
   "source": [
    "## instance test"
   ]
  },
  {
   "cell_type": "code",
   "execution_count": 297,
   "metadata": {},
   "outputs": [
    {
     "output_type": "execute_result",
     "data": {
      "text/plain": "columns  0  1  2  3  4  5  6  7  8\nindex                             \n0        0  0  0  3  3  3  6  6  6\n1        0  0  0  3  3  3  6  6  6\n2        0  0  0  3  3  3  6  6  6\n3        1  1  1  4  4  4  7  7  7\n4        1  1  1  4  4  4  7  7  7\n5        1  1  1  4  4  4  7  7  7\n6        2  2  2  5  5  5  8  8  8\n7        2  2  2  5  5  5  8  8  8\n8        2  2  2  5  5  5  8  8  8",
      "text/html": "<div>\n<style scoped>\n    .dataframe tbody tr th:only-of-type {\n        vertical-align: middle;\n    }\n\n    .dataframe tbody tr th {\n        vertical-align: top;\n    }\n\n    .dataframe thead th {\n        text-align: right;\n    }\n</style>\n<table border=\"1\" class=\"dataframe\">\n  <thead>\n    <tr style=\"text-align: right;\">\n      <th>columns</th>\n      <th>0</th>\n      <th>1</th>\n      <th>2</th>\n      <th>3</th>\n      <th>4</th>\n      <th>5</th>\n      <th>6</th>\n      <th>7</th>\n      <th>8</th>\n    </tr>\n    <tr>\n      <th>index</th>\n      <th></th>\n      <th></th>\n      <th></th>\n      <th></th>\n      <th></th>\n      <th></th>\n      <th></th>\n      <th></th>\n      <th></th>\n    </tr>\n  </thead>\n  <tbody>\n    <tr>\n      <td>0</td>\n      <td>0</td>\n      <td>0</td>\n      <td>0</td>\n      <td>3</td>\n      <td>3</td>\n      <td>3</td>\n      <td>6</td>\n      <td>6</td>\n      <td>6</td>\n    </tr>\n    <tr>\n      <td>1</td>\n      <td>0</td>\n      <td>0</td>\n      <td>0</td>\n      <td>3</td>\n      <td>3</td>\n      <td>3</td>\n      <td>6</td>\n      <td>6</td>\n      <td>6</td>\n    </tr>\n    <tr>\n      <td>2</td>\n      <td>0</td>\n      <td>0</td>\n      <td>0</td>\n      <td>3</td>\n      <td>3</td>\n      <td>3</td>\n      <td>6</td>\n      <td>6</td>\n      <td>6</td>\n    </tr>\n    <tr>\n      <td>3</td>\n      <td>1</td>\n      <td>1</td>\n      <td>1</td>\n      <td>4</td>\n      <td>4</td>\n      <td>4</td>\n      <td>7</td>\n      <td>7</td>\n      <td>7</td>\n    </tr>\n    <tr>\n      <td>4</td>\n      <td>1</td>\n      <td>1</td>\n      <td>1</td>\n      <td>4</td>\n      <td>4</td>\n      <td>4</td>\n      <td>7</td>\n      <td>7</td>\n      <td>7</td>\n    </tr>\n    <tr>\n      <td>5</td>\n      <td>1</td>\n      <td>1</td>\n      <td>1</td>\n      <td>4</td>\n      <td>4</td>\n      <td>4</td>\n      <td>7</td>\n      <td>7</td>\n      <td>7</td>\n    </tr>\n    <tr>\n      <td>6</td>\n      <td>2</td>\n      <td>2</td>\n      <td>2</td>\n      <td>5</td>\n      <td>5</td>\n      <td>5</td>\n      <td>8</td>\n      <td>8</td>\n      <td>8</td>\n    </tr>\n    <tr>\n      <td>7</td>\n      <td>2</td>\n      <td>2</td>\n      <td>2</td>\n      <td>5</td>\n      <td>5</td>\n      <td>5</td>\n      <td>8</td>\n      <td>8</td>\n      <td>8</td>\n    </tr>\n    <tr>\n      <td>8</td>\n      <td>2</td>\n      <td>2</td>\n      <td>2</td>\n      <td>5</td>\n      <td>5</td>\n      <td>5</td>\n      <td>8</td>\n      <td>8</td>\n      <td>8</td>\n    </tr>\n  </tbody>\n</table>\n</div>"
     },
     "metadata": {},
     "execution_count": 297
    }
   ],
   "source": [
    "grid = pd.DataFrame(index=range(9), columns=range(9), data=np.NaN)\n",
    "square = grid.copy()\n",
    "square = square.unstack().reset_index()\n",
    "square[0] = (square['level_0'] // 3) + (square['level_1'] // 3) * 3\n",
    "square.rename(columns={'level_0': 'index', 'level_1': 'columns', 0:'group'}, inplace=True)\n",
    "square['value'] = np.NaN\n",
    "# what we created, though it is more exploitable in non pivoted view\n",
    "square.pivot_table(index='index', columns='columns', values='group')"
   ]
  },
  {
   "cell_type": "code",
   "execution_count": 179,
   "metadata": {},
   "outputs": [],
   "source": [
    "grid.loc[0,0] = 5\n",
    "grid.loc[0,1] = 3\n",
    "grid.loc[0,4] = 7\n",
    "\n",
    "grid.loc[1,0] = 6\n",
    "grid.loc[1,3] = 1\n",
    "grid.loc[1,4] = 9\n",
    "grid.loc[1,5] = 5\n",
    "\n",
    "grid.loc[2,1] = 9\n",
    "grid.loc[2,2] = 8\n",
    "grid.loc[2,7] = 6\n",
    "\n",
    "grid.loc[3,0] = 8\n",
    "grid.loc[3,4] = 6\n",
    "grid.loc[3,8] = 3\n",
    "\n",
    "grid.loc[4,0] = 4\n",
    "grid.loc[4,3] = 8\n",
    "grid.loc[4,5] = 3\n",
    "grid.loc[4,8] = 1\n",
    "\n",
    "grid.loc[5,0] = 7\n",
    "grid.loc[5,4] = 2\n",
    "grid.loc[5,8] = 6\n",
    "\n",
    "\n",
    "grid.loc[6,1] = 6\n",
    "grid.loc[6,6] = 2\n",
    "grid.loc[6,7] = 8\n",
    "\n",
    "grid.loc[7,3] = 4\n",
    "grid.loc[7,4] = 1\n",
    "grid.loc[7,5] = 9\n",
    "grid.loc[7,8] = 5\n",
    "\n",
    "grid.loc[8,4] = 8\n",
    "grid.loc[8,7] = 7\n",
    "grid.loc[8,8] = 9\n"
   ]
  },
  {
   "cell_type": "code",
   "execution_count": 198,
   "metadata": {},
   "outputs": [
    {
     "output_type": "execute_result",
     "data": {
      "text/plain": "     0    1    2    3    4    5    6    7    8\n0  5.0  3.0  NaN  NaN  7.0  NaN  NaN  NaN  NaN\n1  6.0  NaN  NaN  1.0  9.0  5.0  NaN  NaN  NaN\n2  NaN  9.0  8.0  NaN  NaN  NaN  NaN  6.0  NaN\n3  8.0  NaN  NaN  NaN  6.0  NaN  NaN  NaN  3.0\n4  4.0  NaN  NaN  8.0  NaN  3.0  NaN  NaN  1.0\n5  7.0  NaN  NaN  NaN  2.0  NaN  NaN  NaN  6.0\n6  NaN  6.0  NaN  NaN  NaN  NaN  2.0  8.0  NaN\n7  NaN  NaN  NaN  4.0  1.0  9.0  NaN  NaN  5.0\n8  NaN  NaN  NaN  NaN  8.0  NaN  NaN  7.0  9.0",
      "text/html": "<div>\n<style scoped>\n    .dataframe tbody tr th:only-of-type {\n        vertical-align: middle;\n    }\n\n    .dataframe tbody tr th {\n        vertical-align: top;\n    }\n\n    .dataframe thead th {\n        text-align: right;\n    }\n</style>\n<table border=\"1\" class=\"dataframe\">\n  <thead>\n    <tr style=\"text-align: right;\">\n      <th></th>\n      <th>0</th>\n      <th>1</th>\n      <th>2</th>\n      <th>3</th>\n      <th>4</th>\n      <th>5</th>\n      <th>6</th>\n      <th>7</th>\n      <th>8</th>\n    </tr>\n  </thead>\n  <tbody>\n    <tr>\n      <td>0</td>\n      <td>5.0</td>\n      <td>3.0</td>\n      <td>NaN</td>\n      <td>NaN</td>\n      <td>7.0</td>\n      <td>NaN</td>\n      <td>NaN</td>\n      <td>NaN</td>\n      <td>NaN</td>\n    </tr>\n    <tr>\n      <td>1</td>\n      <td>6.0</td>\n      <td>NaN</td>\n      <td>NaN</td>\n      <td>1.0</td>\n      <td>9.0</td>\n      <td>5.0</td>\n      <td>NaN</td>\n      <td>NaN</td>\n      <td>NaN</td>\n    </tr>\n    <tr>\n      <td>2</td>\n      <td>NaN</td>\n      <td>9.0</td>\n      <td>8.0</td>\n      <td>NaN</td>\n      <td>NaN</td>\n      <td>NaN</td>\n      <td>NaN</td>\n      <td>6.0</td>\n      <td>NaN</td>\n    </tr>\n    <tr>\n      <td>3</td>\n      <td>8.0</td>\n      <td>NaN</td>\n      <td>NaN</td>\n      <td>NaN</td>\n      <td>6.0</td>\n      <td>NaN</td>\n      <td>NaN</td>\n      <td>NaN</td>\n      <td>3.0</td>\n    </tr>\n    <tr>\n      <td>4</td>\n      <td>4.0</td>\n      <td>NaN</td>\n      <td>NaN</td>\n      <td>8.0</td>\n      <td>NaN</td>\n      <td>3.0</td>\n      <td>NaN</td>\n      <td>NaN</td>\n      <td>1.0</td>\n    </tr>\n    <tr>\n      <td>5</td>\n      <td>7.0</td>\n      <td>NaN</td>\n      <td>NaN</td>\n      <td>NaN</td>\n      <td>2.0</td>\n      <td>NaN</td>\n      <td>NaN</td>\n      <td>NaN</td>\n      <td>6.0</td>\n    </tr>\n    <tr>\n      <td>6</td>\n      <td>NaN</td>\n      <td>6.0</td>\n      <td>NaN</td>\n      <td>NaN</td>\n      <td>NaN</td>\n      <td>NaN</td>\n      <td>2.0</td>\n      <td>8.0</td>\n      <td>NaN</td>\n    </tr>\n    <tr>\n      <td>7</td>\n      <td>NaN</td>\n      <td>NaN</td>\n      <td>NaN</td>\n      <td>4.0</td>\n      <td>1.0</td>\n      <td>9.0</td>\n      <td>NaN</td>\n      <td>NaN</td>\n      <td>5.0</td>\n    </tr>\n    <tr>\n      <td>8</td>\n      <td>NaN</td>\n      <td>NaN</td>\n      <td>NaN</td>\n      <td>NaN</td>\n      <td>8.0</td>\n      <td>NaN</td>\n      <td>NaN</td>\n      <td>7.0</td>\n      <td>9.0</td>\n    </tr>\n  </tbody>\n</table>\n</div>"
     },
     "metadata": {},
     "execution_count": 198
    }
   ],
   "source": [
    "grid"
   ]
  },
  {
   "cell_type": "markdown",
   "metadata": {},
   "source": [
    "## utils"
   ]
  },
  {
   "cell_type": "code",
   "execution_count": null,
   "metadata": {},
   "outputs": [],
   "source": [
    "def first_nan(grid):\n",
    "    \"\"\"\n",
    "    find a NaN position in the grid\n",
    "    safe policy\n",
    "    \"\"\"\n",
    "    row = grid.isnull().sum(axis=1).argmax()\n",
    "    col = grid.loc[row, :].isnull().argmax()\n",
    "    return row, col"
   ]
  },
  {
   "cell_type": "markdown",
   "metadata": {},
   "source": [
    "## First try:\n",
    "### Naive approach\n",
    "\n",
    "the first try is a very naive one"
   ]
  },
  {
   "cell_type": "code",
   "execution_count": 169,
   "metadata": {},
   "outputs": [],
   "source": [
    "def is_feasible(grid):\n",
    "    # 1 by row\n",
    "    if (grid.nunique(axis=0) != grid.count(axis=0)).any():\n",
    "        return False\n",
    "    # 1 by column\n",
    "    if (grid.nunique(axis=1) != grid.count(axis=1)).any():\n",
    "        return False\n",
    "    # 1 by square\n",
    "    tmp = grid.unstack().reset_index()\n",
    "    tmp['group'] = square['group']\n",
    "    if (tmp.groupby(['group'])[0].value_counts().max(level=0) > 1).any():\n",
    "        return False\n",
    "\n",
    "    return True\n",
    "\n",
    "def solve(grid):\n",
    "    # end this path is infeasible\n",
    "    if not is_feasible(grid):\n",
    "        return False, None\n",
    "\n",
    "    # if the grid is complete we are done :)\n",
    "    if grid.isnull().sum().sum() == 0:\n",
    "        return True, grid\n",
    "\n",
    "    else:\n",
    "        # find a NaN position\n",
    "        idx, col = first_nan(grid)\n",
    "        new_grid = grid.copy()\n",
    "        # try every value on this position\n",
    "        for i in range(1,10):\n",
    "            new_grid.loc[idx, col] = i\n",
    "            feasible, sol = solve(new_grid)\n",
    "            if feasible:\n",
    "                break\n",
    "\n",
    "    return feasible, sol"
   ]
  },
  {
   "cell_type": "code",
   "execution_count": 300,
   "metadata": {
    "tags": [
     "outputPrepend",
     "outputPrepend",
     "outputPrepend",
     "outputPrepend",
     "outputPrepend",
     "outputPrepend"
    ]
   },
   "outputs": [
    {
     "output_type": "stream",
     "name": "stdout",
     "text": "(True,      0    1    2    3    4    5    6    7    8\n0  1.0  4.0  7.0  2.0  3.0  8.0  5.0  6.0  9.0\n1  2.0  5.0  8.0  1.0  6.0  9.0  3.0  4.0  7.0\n2  3.0  6.0  9.0  4.0  5.0  7.0  1.0  2.0  8.0\n3  4.0  7.0  1.0  3.0  8.0  2.0  6.0  9.0  5.0\n4  5.0  8.0  2.0  6.0  9.0  1.0  4.0  7.0  3.0\n5  6.0  9.0  3.0  5.0  7.0  4.0  2.0  8.0  1.0\n6  7.0  1.0  4.0  8.0  2.0  3.0  9.0  5.0  6.0\n7  8.0  2.0  5.0  9.0  1.0  6.0  7.0  3.0  4.0\n8  9.0  3.0  6.0  7.0  4.0  5.0  8.0  1.0  2.0)\n0:00:13.898746\n"
    }
   ],
   "source": [
    "start = datetime.datetime.now()\n",
    "print(solve(grid))\n",
    "print(datetime.datetime.now() - start)"
   ]
  },
  {
   "cell_type": "markdown",
   "metadata": {},
   "source": [
    "## Second try: \n",
    "### we filter possibilities rather than check the feasibility\n",
    "\n",
    "we only try acceptable values instead of trying all of them then checking"
   ]
  },
  {
   "cell_type": "code",
   "execution_count": 255,
   "metadata": {},
   "outputs": [],
   "source": [
    "def solve2(grid):\n",
    "    # end this path is infeasible\n",
    "    if not is_feasible(grid):\n",
    "        return False, None\n",
    "\n",
    "    # if the grid is complete we are done :)\n",
    "    if grid.isnull().sum().sum() == 0:\n",
    "        return True, grid\n",
    "\n",
    "    else:\n",
    "        # find a NaN position\n",
    "        idx, col = first_nan(grid)\n",
    "        new_grid = grid.copy()\n",
    "        # test only possible values\n",
    "        possible_values = set(range(1,10))\n",
    "        possible_values -= set(new_grid.loc[idx, :].to_list())\n",
    "        possible_values -= set(new_grid.loc[:, col].to_list())\n",
    "        possible_values -= set(new_grid.loc[(idx//3)*3:(idx//3)*3+2, (col//3)*3:(col//3)*3+2].values.flatten())\n",
    "        # is no value possible: the path is infeasible\n",
    "        if len(possible_values) == 0:\n",
    "            return False, None\n",
    "        else:\n",
    "            for i in possible_values:\n",
    "                new_grid.loc[idx, col] = i\n",
    "                feasible, sol = solve2(new_grid)\n",
    "                if feasible:\n",
    "                    break\n",
    "    return feasible, sol"
   ]
  },
  {
   "cell_type": "code",
   "execution_count": 299,
   "metadata": {},
   "outputs": [
    {
     "output_type": "stream",
     "name": "stdout",
     "text": "(True,      0    1    2    3    4    5    6    7    8\n0  1.0  4.0  7.0  2.0  3.0  8.0  5.0  6.0  9.0\n1  2.0  5.0  8.0  1.0  6.0  9.0  3.0  4.0  7.0\n2  3.0  6.0  9.0  4.0  5.0  7.0  1.0  2.0  8.0\n3  4.0  7.0  1.0  3.0  8.0  2.0  6.0  9.0  5.0\n4  5.0  8.0  2.0  6.0  9.0  1.0  4.0  7.0  3.0\n5  6.0  9.0  3.0  5.0  7.0  4.0  2.0  8.0  1.0\n6  7.0  1.0  4.0  8.0  2.0  3.0  9.0  5.0  6.0\n7  8.0  2.0  5.0  9.0  1.0  6.0  7.0  3.0  4.0\n8  9.0  3.0  6.0  7.0  4.0  5.0  8.0  1.0  2.0)\n0:00:04.474437\n"
    }
   ],
   "source": [
    "start = datetime.datetime.now()\n",
    "print(solve2(grid))\n",
    "print(datetime.datetime.now() - start)"
   ]
  },
  {
   "cell_type": "markdown",
   "metadata": {},
   "source": [
    "better, still disappointing"
   ]
  },
  {
   "cell_type": "markdown",
   "metadata": {},
   "source": [
    "## Third try:\n",
    "### we optimize order of visited cells\n",
    "\n",
    "let chose more cleverly the next cell to explore"
   ]
  },
  {
   "cell_type": "code",
   "execution_count": 295,
   "metadata": {},
   "outputs": [],
   "source": [
    "def compute_possible_values(grid, idx, col):\n",
    "    possible_values = set(range(1,10))\n",
    "    possible_values -= set(grid.loc[idx, :].to_list())\n",
    "    possible_values -= set(grid.loc[:, col].to_list())\n",
    "    possible_values -= set(grid.loc[(idx//3)*3:(idx//3)*3+2, (col//3)*3:(col//3)*3+2].values.flatten())\n",
    "    return possible_values\n",
    "\n",
    "def first_nan2(grid):\n",
    "    \"\"\"\n",
    "    find all available numbers for each position still unaffected.\n",
    "    If we find a position with only one possibility we stop and go with this position/number\n",
    "    \"\"\"\n",
    "    res = {}\n",
    "    # test all position with NAN\n",
    "    # look a bit better than grid.index: sort index by nan value: more chances to \n",
    "    # find a fully determined cell in a row with a lot of values\n",
    "    for i in grid.isnull().sum(axis=1).sort_values().index:\n",
    "        # doesnt look worth: grid.isnull().sum(axis=0).sort_values().index:\n",
    "        for j in grid.columns: \n",
    "            if pd.isnull(grid.loc[i, j]):\n",
    "                candidates = compute_possible_values(grid, i, j)\n",
    "                # we found an optimal position\n",
    "                if len(candidates) ==1:\n",
    "                    return i, j, candidates\n",
    "                else:\n",
    "                    res[(i,j)] = candidates\n",
    "    # return pos with the least candidates\n",
    "    (row, col), candidates = min(res.items(), key=operator.itemgetter(1))\n",
    "    return row, col, candidates\n",
    "\n",
    "def solve3(grid):\n",
    "    # end this path is infeasible\n",
    "    if not is_feasible(grid):\n",
    "        return False, None\n",
    "\n",
    "    # if the grid is complete we are done :)\n",
    "    if grid.isnull().sum().sum() == 0:\n",
    "        return True, grid\n",
    "\n",
    "    else:\n",
    "        # find best candidate\n",
    "        idx, col, candidates = first_nan2(grid)\n",
    "        new_grid = grid.copy()\n",
    "        if len(candidates) == 0:\n",
    "            return False, None\n",
    "        else:\n",
    "            for i in candidates:\n",
    "                new_grid.loc[idx, col] = i\n",
    "                feasible, sol = solve3(new_grid)\n",
    "                if feasible:\n",
    "                    break\n",
    "    return feasible, sol"
   ]
  },
  {
   "cell_type": "code",
   "execution_count": 298,
   "metadata": {
    "tags": [
     "outputPrepend",
     "outputPrepend",
     "outputPrepend",
     "outputPrepend",
     "outputPrepend",
     "outputPrepend",
     "outputPrepend",
     "outputPrepend",
     "outputPrepend",
     "outputPrepend",
     "outputPrepend",
     "outputPrepend",
     "outputPrepend",
     "outputPrepend",
     "outputPrepend"
    ]
   },
   "outputs": [
    {
     "output_type": "stream",
     "name": "stdout",
     "text": "(True,      0    1    2    3    4    5    6    7    8\n0  1.0  2.0  3.0  4.0  5.0  6.0  7.0  8.0  9.0\n1  4.0  5.0  6.0  7.0  8.0  9.0  1.0  2.0  3.0\n2  7.0  8.0  9.0  1.0  2.0  3.0  4.0  5.0  6.0\n3  2.0  1.0  4.0  3.0  6.0  5.0  8.0  9.0  7.0\n4  3.0  6.0  5.0  8.0  9.0  7.0  2.0  1.0  4.0\n5  8.0  9.0  7.0  2.0  1.0  4.0  3.0  6.0  5.0\n6  5.0  3.0  1.0  6.0  4.0  2.0  9.0  7.0  8.0\n7  6.0  4.0  2.0  9.0  7.0  8.0  5.0  3.0  1.0\n8  9.0  7.0  8.0  5.0  3.0  1.0  6.0  4.0  2.0)\n0:00:02.227223\n"
    }
   ],
   "source": [
    "start = datetime.datetime.now()\n",
    "print(solve3(grid))\n",
    "print(datetime.datetime.now() - start)"
   ]
  },
  {
   "cell_type": "markdown",
   "metadata": {},
   "source": [
    "looks more like what i was initially expecting :)"
   ]
  },
  {
   "cell_type": "code",
   "execution_count": null,
   "metadata": {},
   "outputs": [],
   "source": []
  },
  {
   "cell_type": "code",
   "execution_count": null,
   "metadata": {},
   "outputs": [],
   "source": []
  },
  {
   "cell_type": "code",
   "execution_count": null,
   "metadata": {},
   "outputs": [],
   "source": []
  }
 ],
 "metadata": {
  "language_info": {
   "codemirror_mode": {
    "name": "ipython",
    "version": 3
   },
   "file_extension": ".py",
   "mimetype": "text/x-python",
   "name": "python",
   "nbconvert_exporter": "python",
   "pygments_lexer": "ipython3",
   "version": "3.7.4-final"
  },
  "orig_nbformat": 2,
  "kernelspec": {
   "name": "python37464bitcontinuumvirtualenv716c339f4db047f5866f46ba1efb6a92",
   "display_name": "Python 3.7.4 64-bit ('Continuum': virtualenv)"
  }
 },
 "nbformat": 4,
 "nbformat_minor": 2
}